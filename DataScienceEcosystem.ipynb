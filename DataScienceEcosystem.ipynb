{
 "cells": [
  {
   "cell_type": "markdown",
   "id": "6452ed83-108c-4b8e-a4b3-5b0ed9490218",
   "metadata": {},
   "source": [
    "# Data Science Tools and Ecosystem"
   ]
  },
  {
   "cell_type": "markdown",
   "id": "06ea81fd-12f6-4088-9d32-feaefb163a98",
   "metadata": {},
   "source": [
    "# In this notebook, Data Science Tools and Ecosystem are summarized."
   ]
  },
  {
   "cell_type": "markdown",
   "id": "341a64c7-e013-460b-8765-7820d062e8d8",
   "metadata": {},
   "source": [
    "# Some of the popular languages that Data Scientists use are:\n",
    "\n",
    "1. Python\n",
    "2. R\n",
    "3. Julia"
   ]
  },
  {
   "cell_type": "markdown",
   "id": "806d453b-d924-4c0f-bec0-32452dbf23a5",
   "metadata": {},
   "source": [
    "# Some of the commonly used libraries used by Data Scientists include:\n",
    "\n",
    "1. Numpy\n",
    "2. Pandas\n",
    "3. Matplotlib\n",
    "4. ggplot2\n",
    "\n",
    "   "
   ]
  },
  {
   "cell_type": "markdown",
   "id": "eab0b4a4-13bd-469f-b03e-cd3057e8cc37",
   "metadata": {},
   "source": [
    " |Data Science Tools| \n",
    " |-------------------|\n",
    " |My SQL | \n",
    " |kafka | \n",
    " |Kylo |\n",
    "   "
   ]
  },
  {
   "cell_type": "markdown",
   "id": "597ece8b-139a-4fcf-b6e3-bbffaaa2b3dd",
   "metadata": {},
   "source": [
    "### Below are a few examples of evaluating arithmetic expressions in Python"
   ]
  },
  {
   "cell_type": "code",
   "execution_count": 2,
   "id": "cd1e7e82-4135-4ea0-9517-1ad538179f9f",
   "metadata": {},
   "outputs": [
    {
     "data": {
      "text/plain": [
       "17"
      ]
     },
     "execution_count": 2,
     "metadata": {},
     "output_type": "execute_result"
    }
   ],
   "source": [
    "# This a simple arithmetic expression to mutiply then add integers.\n",
    "(3*4)+5"
   ]
  },
  {
   "cell_type": "code",
   "execution_count": 3,
   "id": "055bc97f-6517-427a-a24b-4af11c3c0ef3",
   "metadata": {},
   "outputs": [
    {
     "data": {
      "text/plain": [
       "3.3333333333333335"
      ]
     },
     "execution_count": 3,
     "metadata": {},
     "output_type": "execute_result"
    }
   ],
   "source": [
    "# This will convert 200 minutes to hours by diving by 60.\n",
    "200/60"
   ]
  },
  {
   "cell_type": "markdown",
   "id": "2bd013cc-56b9-4300-91e5-4390fd173e1c",
   "metadata": {},
   "source": [
    "# List popular languages for Data Science\n",
    "\n",
    "- Python\n",
    "- R\n",
    "- Julia\n",
    "- Ruby\n",
    "- Java"
   ]
  },
  {
   "cell_type": "markdown",
   "id": "d1c07b10-bfe4-4a79-aecc-84755c12c418",
   "metadata": {},
   "source": [
    "## Souvik Mandal"
   ]
  }
 ],
 "metadata": {
  "kernelspec": {
   "display_name": "Python 3 (ipykernel)",
   "language": "python",
   "name": "python3"
  },
  "language_info": {
   "codemirror_mode": {
    "name": "ipython",
    "version": 3
   },
   "file_extension": ".py",
   "mimetype": "text/x-python",
   "name": "python",
   "nbconvert_exporter": "python",
   "pygments_lexer": "ipython3",
   "version": "3.12.7"
  }
 },
 "nbformat": 4,
 "nbformat_minor": 5
}
